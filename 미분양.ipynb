{
  "nbformat": 4,
  "nbformat_minor": 0,
  "metadata": {
    "colab": {
      "private_outputs": true,
      "provenance": [],
      "authorship_tag": "ABX9TyOLfPID+JV12Qlg2bBqkqEK",
      "include_colab_link": true
    },
    "kernelspec": {
      "name": "python3",
      "display_name": "Python 3"
    },
    "language_info": {
      "name": "python"
    }
  },
  "cells": [
    {
      "cell_type": "markdown",
      "metadata": {
        "id": "view-in-github",
        "colab_type": "text"
      },
      "source": [
        "<a href=\"https://colab.research.google.com/github/yy0750/Unsold_Apartments_Spatial_Analysis/blob/main/%EB%AF%B8%EB%B6%84%EC%96%91.ipynb\" target=\"_parent\"><img src=\"https://colab.research.google.com/assets/colab-badge.svg\" alt=\"Open In Colab\"/></a>"
      ]
    },
    {
      "cell_type": "code",
      "source": [
        "# # 한글\n",
        "# !sudo apt-get install -y fonts-nanum\n",
        "# !sudo fc-cache -fv\n",
        "# !rm ~/.cache/matplotlib -rf"
      ],
      "metadata": {
        "id": "-3hvweQcvGj-"
      },
      "execution_count": null,
      "outputs": []
    },
    {
      "cell_type": "code",
      "source": [
        "from google.colab import drive\n",
        "drive.mount('/content/drive')"
      ],
      "metadata": {
        "id": "1Di9hprmdRok"
      },
      "execution_count": null,
      "outputs": []
    },
    {
      "cell_type": "code",
      "source": [
        "data = pd.read_csv('/content/drive/MyDrive/spatio-temporal/경쟁률.csv')\n",
        "seoul_shp = gpd.read_file('/content/drive/MyDrive/spatio-temporal/LARD_ADM_SECT_SGG_11.shp')\n",
        "gdf = gpd.GeoDataFrame(data, geometry=gpd.points_from_xy(data.경도, data.위도))\n",
        "\n",
        "import pandas as pd\n",
        "import numpy as np\n",
        "from sklearn.cluster import KMeans\n",
        "import matplotlib.pyplot as plt\n",
        "import folium\n",
        "from folium.plugins import MarkerCluster\n",
        "from sklearn.preprocessing import StandardScaler\n",
        "import io\n",
        "import geopandas as gpd\n",
        "import seaborn as sns\n",
        "\n",
        "plt.rc('font', family='NanumBarunGothic') #폰트를 나눔 고딕 폰트로 지정"
      ],
      "metadata": {
        "id": "HxWSAY0Rb_cF"
      },
      "execution_count": null,
      "outputs": []
    },
    {
      "cell_type": "code",
      "source": [
        "# CSV 파일 로드 (\n",
        "df_competition = pd.read_csv('/content/drive/MyDrive/spatio-temporal/경쟁률.csv')\n",
        "df_unsold = pd.read_csv('/content/drive/MyDrive/spatio-temporal/미분양.csv')\n",
        "df_population_gdp = pd.read_csv('/content/drive/MyDrive/spatio-temporal/인구수총생산.csv')\n",
        "\n",
        "# 데이터 전처리 및 병합 키 생성\n",
        "df_competition['연도'] = df_competition['연도'].astype(str)\n",
        "df_unsold['연도'] = pd.to_datetime(df_unsold['연도']).dt.year.astype(str)\n",
        "df_competition['merge_key'] = df_competition['연도'] + df_competition['지역']\n",
        "df_unsold['merge_key'] = df_unsold['연도'] + df_unsold['지역']\n",
        "\n",
        "# df_competition과 df_unsold 데이터프레임 병합\n",
        "merged_data = pd.merge(df_competition, df_unsold, on='merge_key', how='inner', suffixes=('_comp', '_unsold'))\n",
        "\n",
        "# 병합된 데이터프레임과 df_population_gdp 병합\n",
        "# df_population_gdp에는 연도 정보가 없으므로 '지역' 컬럼을 직접 지정하여 병합\n",
        "merged_final_data = pd.merge(merged_data, df_population_gdp, left_on='지역_comp', right_on='지역', how='left')\n",
        "\n",
        "merged_final_data.head()"
      ],
      "metadata": {
        "id": "QXS5BVPp-i5t"
      },
      "execution_count": null,
      "outputs": []
    },
    {
      "cell_type": "code",
      "source": [
        "# 상관관계 분석\n",
        "relevant_columns = ['경쟁률', '데이터', '인구', '면적', '인구밀도', '지역내총생산']\n",
        "correlation_data = merged_final_data[relevant_columns].dropna()\n",
        "correlation_matrix = correlation_data.corr()\n",
        "\n",
        "plt.figure(figsize=(10, 8))\n",
        "sns.heatmap(correlation_matrix, annot=True, cmap='coolwarm', fmt=\".2f\", linewidths=.5)\n",
        "plt.title('Variable Correlation Matrix')\n",
        "plt.show()"
      ],
      "metadata": {
        "id": "h06DenFYF3Yb"
      },
      "execution_count": null,
      "outputs": []
    },
    {
      "cell_type": "code",
      "source": [
        "# Folium 지도 초기화\n",
        "map_all_locations = folium.Map(location=[map_center_latitude, map_center_longitude], zoom_start=11)\n",
        "\n",
        "# 모든 좌표에 대해 마커 추가\n",
        "for idx, row in merged_final_data.iterrows():\n",
        "    folium.CircleMarker(\n",
        "        location=[row['위도'], row['경도']],\n",
        "        radius=5,\n",
        "        color='red',  # 모든 좌표를 동일한 색상으로 표시\n",
        "        fill=True,\n",
        "        fill_color='red',\n",
        "        fill_opacity=0.7,\n",
        "        popup=(f\"지역: {row['지역_comp']}\")\n",
        "    ).add_to(map_all_locations)\n",
        "\n",
        "# 지도 저장 (옵션)\n",
        "map_all_locations.save('all_locations.html')\n",
        "\n",
        "# 지도 표시\n",
        "map_all_locations\n"
      ],
      "metadata": {
        "id": "TYyVWzhZKgEB"
      },
      "execution_count": null,
      "outputs": []
    },
    {
      "cell_type": "code",
      "source": [
        "# Elbow Method\n",
        "scaler = StandardScaler()\n",
        "scaled_data = scaler.fit_transform(correlation_data)\n",
        "\n",
        "inertia = []\n",
        "K_range = range(1, 11)\n",
        "for k in K_range:\n",
        "    model = KMeans(n_clusters=k, random_state=42, n_init=10)\n",
        "    model.fit(scaled_data)\n",
        "    inertia.append(model.inertia_)\n",
        "\n",
        "plt.figure(figsize=(10, 6))\n",
        "plt.plot(K_range, inertia, marker='o')\n",
        "plt.title('Elbow Method For Optimal k')\n",
        "plt.xlabel('Number of clusters')\n",
        "plt.ylabel('Inertia')\n",
        "plt.xticks(K_range)\n",
        "plt.show()\n",
        "\n"
      ],
      "metadata": {
        "id": "rjYS8w2UApPl"
      },
      "execution_count": null,
      "outputs": []
    },
    {
      "cell_type": "code",
      "source": [
        "# KMeans 클러스터링\n",
        "optimal_clusters = 4\n",
        "kmeans = KMeans(n_clusters=optimal_clusters, random_state=42, n_init=10)\n",
        "clusters = kmeans.fit_predict(scaled_data)\n",
        "\n",
        "merged_final_data['Cluster'] = clusters\n",
        "\n",
        "# Folium 지도 시각화\n",
        "map_center_latitude = merged_final_data['위도'].mean()\n",
        "map_center_longitude = merged_final_data['경도'].mean()\n",
        "map_seoul = folium.Map(location=[map_center_latitude, map_center_longitude], zoom_start=11)\n",
        "\n",
        "cluster_colors = ['blue', 'green', 'red', 'purple']\n",
        "\n",
        "for idx, row in merged_final_data.iterrows():\n",
        "    folium.CircleMarker(\n",
        "        location=[row['위도'], row['경도']],\n",
        "        radius=5,\n",
        "        color=cluster_colors[row['Cluster']],\n",
        "        fill=True,\n",
        "        fill_color=cluster_colors[row['Cluster']],\n",
        "        fill_opacity=0.7,\n",
        "        popup=(f\"지역: {row['지역_comp']}, 경쟁률: {row['경쟁률']}\")\n",
        "    ).add_to(map_seoul)\n",
        "\n",
        "map_seoul.save('seoul_unsold_apartments.html')\n",
        "\n",
        "map_seoul"
      ],
      "metadata": {
        "id": "XTHUnO3kFhPd"
      },
      "execution_count": null,
      "outputs": []
    }
  ]
}